{
  "nbformat": 4,
  "nbformat_minor": 0,
  "metadata": {
    "colab": {
      "name": "TSF prediction.ipynb",
      "provenance": [],
      "collapsed_sections": []
    },
    "kernelspec": {
      "name": "python3",
      "display_name": "Python 3"
    }
  },
  "cells": [
    {
      "cell_type": "markdown",
      "metadata": {
        "id": "K7ZvcrPVQuNG"
      },
      "source": [
        "# **TASK 1: precdiction using supervised ML**\n",
      ]
    },
    {
      "cell_type": "markdown",
      "metadata": {
        "id": "P99mnJb80Bw5"
      },
      "source": [
        "**Importing libraries**"
      ]
    },
    {
      "cell_type": "code",
      "metadata": {
        "id": "8OaA3vdasUis"
      },
      "source": [
        "import numpy as np\n",
        "import matplotlib.pyplot as plt\n",
        "import pandas as pd"
      ],
      "execution_count": 1,
      "outputs": []
    },
    {
      "cell_type": "markdown",
      "metadata": {
        "id": "X1AZgLyt0N4a"
      },
      "source": [
        "**Importing dataset**"
      ]
    },
    {
      "cell_type": "code",
      "metadata": {
        "id": "K8CRHnxbtGkL",
        "outputId": "b767718e-07bc-42cd-c8fa-1eecb0ae9f51",
        "colab": {
          "base_uri": "https://localhost:8080/",
          "height": 219
        }
      },
      "source": [
        "link = \"https://raw.githubusercontent.com/AdiPersonalWorks/Random/master/student_scores%20-%20student_scores.csv\"\n",
        "data = pd.read_csv(link) \n",
        "print(data.shape)\n",
        "data.head()"
      ],
      "execution_count": 2,
      "outputs": [
        {
          "output_type": "stream",
          "text": [
            "(25, 2)\n"
          ],
          "name": "stdout"
        },
        {
          "output_type": "execute_result",
          "data": {
            "text/html": [
              "<div>\n",
              "<style scoped>\n",
              "    .dataframe tbody tr th:only-of-type {\n",
              "        vertical-align: middle;\n",
              "    }\n",
              "\n",
              "    .dataframe tbody tr th {\n",
              "        vertical-align: top;\n",
              "    }\n",
              "\n",
              "    .dataframe thead th {\n",
              "        text-align: right;\n",
              "    }\n",
              "</style>\n",
              "<table border=\"1\" class=\"dataframe\">\n",
              "  <thead>\n",
              "    <tr style=\"text-align: right;\">\n",
              "      <th></th>\n",
              "      <th>Hours</th>\n",
              "      <th>Scores</th>\n",
              "    </tr>\n",
              "  </thead>\n",
              "  <tbody>\n",
              "    <tr>\n",
              "      <th>0</th>\n",
              "      <td>2.5</td>\n",
              "      <td>21</td>\n",
              "    </tr>\n",
              "    <tr>\n",
              "      <th>1</th>\n",
              "      <td>5.1</td>\n",
              "      <td>47</td>\n",
              "    </tr>\n",
              "    <tr>\n",
              "      <th>2</th>\n",
              "      <td>3.2</td>\n",
              "      <td>27</td>\n",
              "    </tr>\n",
              "    <tr>\n",
              "      <th>3</th>\n",
              "      <td>8.5</td>\n",
              "      <td>75</td>\n",
              "    </tr>\n",
              "    <tr>\n",
              "      <th>4</th>\n",
              "      <td>3.5</td>\n",
              "      <td>30</td>\n",
              "    </tr>\n",
              "  </tbody>\n",
              "</table>\n",
              "</div>"
            ],
            "text/plain": [
              "   Hours  Scores\n",
              "0    2.5      21\n",
              "1    5.1      47\n",
              "2    3.2      27\n",
              "3    8.5      75\n",
              "4    3.5      30"
            ]
          },
          "metadata": {
            "tags": []
          },
          "execution_count": 2
        }
      ]
    },
    {
      "cell_type": "code",
      "metadata": {
        "id": "beZ9tRBtt5kA",
        "outputId": "c542e42e-fdcf-4af5-d4f8-8ea43eba93ca",
        "colab": {
          "base_uri": "https://localhost:8080/",
          "height": 295
        }
      },
      "source": [
        "data.plot(\"Hours\",\"Scores\", style=\"o\")\n",
        "plt.title(\"Hour vs Percentage\")\n",
        "plt.xlabel(\"Study hours\")\n",
        "plt.ylabel(\"Percentage\")\n",
        "plt.show()"
      ],
      "execution_count": 3,
      "outputs": [
        {
          "output_type": "display_data",
          "data": {
            "image/png": "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\n",
            "text/plain": [
              "<Figure size 432x288 with 1 Axes>"
            ]
          },
          "metadata": {
            "tags": [],
            "needs_background": "light"
          }
        }
      ]
    },
    {
      "cell_type": "markdown",
      "metadata": {
        "id": "7ZWujfEX0nMH"
      },
      "source": [
        "**Creating matrix of features**"
      ]
    },
    {
      "cell_type": "code",
      "metadata": {
        "id": "ef8BhZJP0ekT"
      },
      "source": [
        "X= data.iloc[:,:-1].values\n",
        "y= data.iloc[:,1].values"
      ],
      "execution_count": 4,
      "outputs": []
    },
    {
      "cell_type": "markdown",
      "metadata": {
        "id": "6zTC1fC_1I88"
      },
      "source": [
        "**Splitting the dataset into train & test set bold text**"
      ]
    },
    {
      "cell_type": "code",
      "metadata": {
        "id": "I21Axcko06sv"
      },
      "source": [
        "from sklearn.model_selection import train_test_split\n",
        "X_train, X_test, y_train, y_test= train_test_split(X,y, test_size=0.2, random_state=0)"
      ],
      "execution_count": 5,
      "outputs": []
    },
    {
      "cell_type": "markdown",
      "metadata": {
        "id": "tCPWMs4V185n"
      },
      "source": [
        "**Fitting linear regression model**"
      ]
    },
    {
      "cell_type": "code",
      "metadata": {
        "id": "fR6887AJ2Ccg",
        "outputId": "27c3b312-dfc6-42d0-92b1-715a15912b6f",
        "colab": {
          "base_uri": "https://localhost:8080/"
        }
      },
      "source": [
        "from sklearn.linear_model import LinearRegression\n",
        "regressor = LinearRegression()\n",
        "regressor.fit(X_train, y_train) "
      ],
      "execution_count": 6,
      "outputs": [
        {
          "output_type": "execute_result",
          "data": {
            "text/plain": [
              "LinearRegression(copy_X=True, fit_intercept=True, n_jobs=None, normalize=False)"
            ]
          },
          "metadata": {
            "tags": []
          },
          "execution_count": 6
        }
      ]
    },
    {
      "cell_type": "code",
      "metadata": {
        "id": "9LUW2tQU2lo1",
        "outputId": "8d72c23c-0241-4b38-cc2d-3f893cfbde00",
        "colab": {
          "base_uri": "https://localhost:8080/",
          "height": 202
        }
      },
      "source": [
        "y_pred = regressor.predict(X_test) \n",
        "df = pd.DataFrame({'Actual': y_test, 'Predicted': y_pred})\n",
        "df"
      ],
      "execution_count": 7,
      "outputs": [
        {
          "output_type": "execute_result",
          "data": {
            "text/html": [
              "<div>\n",
              "<style scoped>\n",
              "    .dataframe tbody tr th:only-of-type {\n",
              "        vertical-align: middle;\n",
              "    }\n",
              "\n",
              "    .dataframe tbody tr th {\n",
              "        vertical-align: top;\n",
              "    }\n",
              "\n",
              "    .dataframe thead th {\n",
              "        text-align: right;\n",
              "    }\n",
              "</style>\n",
              "<table border=\"1\" class=\"dataframe\">\n",
              "  <thead>\n",
              "    <tr style=\"text-align: right;\">\n",
              "      <th></th>\n",
              "      <th>Actual</th>\n",
              "      <th>Predicted</th>\n",
              "    </tr>\n",
              "  </thead>\n",
              "  <tbody>\n",
              "    <tr>\n",
              "      <th>0</th>\n",
              "      <td>20</td>\n",
              "      <td>16.884145</td>\n",
              "    </tr>\n",
              "    <tr>\n",
              "      <th>1</th>\n",
              "      <td>27</td>\n",
              "      <td>33.732261</td>\n",
              "    </tr>\n",
              "    <tr>\n",
              "      <th>2</th>\n",
              "      <td>69</td>\n",
              "      <td>75.357018</td>\n",
              "    </tr>\n",
              "    <tr>\n",
              "      <th>3</th>\n",
              "      <td>30</td>\n",
              "      <td>26.794801</td>\n",
              "    </tr>\n",
              "    <tr>\n",
              "      <th>4</th>\n",
              "      <td>62</td>\n",
              "      <td>60.491033</td>\n",
              "    </tr>\n",
              "  </tbody>\n",
              "</table>\n",
              "</div>"
            ],
            "text/plain": [
              "   Actual  Predicted\n",
              "0      20  16.884145\n",
              "1      27  33.732261\n",
              "2      69  75.357018\n",
              "3      30  26.794801\n",
              "4      62  60.491033"
            ]
          },
          "metadata": {
            "tags": []
          },
          "execution_count": 7
        }
      ]
    },
    {
      "cell_type": "markdown",
      "metadata": {
        "id": "4fHaKqyd9gxB"
      },
      "source": [
        "**Visualizing testset result**"
      ]
    },
    {
      "cell_type": "code",
      "metadata": {
        "id": "gsVBr2dh2lXV",
        "outputId": "bce3d92b-810b-4f37-d3ca-a4f74fe5d0ae",
        "colab": {
          "base_uri": "https://localhost:8080/",
          "height": 295
        }
      },
      "source": [
        "plt.scatter(X_train, y_train, color=\"red\")\n",
        "plt.plot(X_train, regressor.predict(X_train), color= \"blue\")\n",
        "plt.title(\"Hour vs Percentage\")\n",
        "plt.xlabel(\"Hour\")\n",
        "plt.ylabel(\"Percentage\")\n",
        "plt.show()"
      ],
      "execution_count": 8,
      "outputs": [
        {
          "output_type": "display_data",
          "data": {
            "image/png": "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\n",
            "text/plain": [
              "<Figure size 432x288 with 1 Axes>"
            ]
          },
          "metadata": {
            "tags": [],
            "needs_background": "light"
          }
        }
      ]
    },
    {
      "cell_type": "markdown",
      "metadata": {
        "id": "IVs-iVQy35NT"
      },
      "source": [
        "**Make prediction**"
      ]
    },
    {
      "cell_type": "code",
      "metadata": {
        "id": "cAB_a4f03_Tj",
        "outputId": "5e548788-f6e0-4e12-a0a4-831fba80d658",
        "colab": {
          "base_uri": "https://localhost:8080/"
        }
      },
      "source": [
        "new_pred= regressor.predict([[9.25]])\n",
        "print(\"hour of studies={}\".format(9.25))\n",
        "print(\"Predicted sccore of student={}\".format(new_pred[0]))"
      ],
      "execution_count": 9,
      "outputs": [
        {
          "output_type": "stream",
          "text": [
            "hour of studies=9.25\n",
            "Predicted sccore of student=93.69173248737539\n"
          ],
          "name": "stdout"
        }
      ]
    },
    {
      "cell_type": "markdown",
      "metadata": {
        "id": "FCwWWCj_9Hy4"
      },
      "source": [
        "**Evaluating the performance of algorithm**"
      ]
    },
    {
      "cell_type": "code",
      "metadata": {
        "id": "BOmdT76F6pLD",
        "outputId": "3d43a14d-10db-4160-b85d-a5f88f70444a",
        "colab": {
          "base_uri": "https://localhost:8080/"
        }
      },
      "source": [
        "from sklearn import metrics\n",
        "print('Mean Absolute Error:', metrics.mean_absolute_error(y_test, y_pred))\n",
        "print('Mean Squared Error:', metrics.mean_squared_error(y_test, y_pred))"
      ],
      "execution_count": 10,
      "outputs": [
        {
          "output_type": "stream",
          "text": [
            "Mean Absolute Error: 4.183859899002982\n",
            "Mean Squared Error: 21.598769307217456\n"
          ],
          "name": "stdout"
        }
      ]
    }
  ]
}
